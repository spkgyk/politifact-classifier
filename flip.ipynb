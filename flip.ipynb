{
 "cells": [
  {
   "cell_type": "code",
   "execution_count": null,
   "metadata": {},
   "outputs": [],
   "source": [
    "from src.test import ClassificationTester\n",
    "from src.utils import calculate_metrics\n",
    "from yaml import safe_load\n",
    "import pandas as pd"
   ]
  },
  {
   "cell_type": "code",
   "execution_count": null,
   "metadata": {},
   "outputs": [],
   "source": [
    "df = pd.read_csv(\"data/data_ada.csv\")\n",
    "with open(\"configs/config.yaml\") as f:\n",
    "    config = safe_load(f)\n",
    "\n",
    "reference = df[\"Label\"].apply(lambda x: int(x.lower() in [\"true\", \"mostly-true\"]))"
   ]
  },
  {
   "cell_type": "code",
   "execution_count": null,
   "metadata": {},
   "outputs": [],
   "source": [
    "tester = ClassificationTester(config)"
   ]
  },
  {
   "cell_type": "code",
   "execution_count": null,
   "metadata": {},
   "outputs": [],
   "source": [
    "statements = [2, 4, 8, 16, 32, 64, 128, 256, 512, 1024, 2048, 4096, 8192]\n",
    "\n",
    "for s in statements:\n",
    "    print(\"Original statement:\", df.iloc[s][\"statement\"])\n",
    "    generator = tester.flip(df.iloc[s])\n",
    "    print(\"Flipped statement: \", end=\"\", flush=True)\n",
    "    for g in generator:\n",
    "        print(g, end=\"\", flush=True)\n",
    "    print('\\n\\n')"
   ]
  },
  {
   "cell_type": "code",
   "execution_count": null,
   "metadata": {},
   "outputs": [],
   "source": [
    "rf_results = tester.test_df_rf(df)\n",
    "bert_results = tester.test_df_bert(df)\n",
    "ensemble_results = tester.test_df_ensemble(df)"
   ]
  },
  {
   "cell_type": "code",
   "execution_count": null,
   "metadata": {},
   "outputs": [],
   "source": [
    "a, b, c = calculate_metrics(rf_results, reference)\n",
    "display(pd.DataFrame([a]))\n",
    "display(b)\n",
    "display(c)"
   ]
  },
  {
   "cell_type": "code",
   "execution_count": null,
   "metadata": {},
   "outputs": [],
   "source": [
    "a, b, c = calculate_metrics(bert_results, reference)\n",
    "display(pd.DataFrame([a]))\n",
    "display(b)\n",
    "display(c)"
   ]
  },
  {
   "cell_type": "code",
   "execution_count": null,
   "metadata": {},
   "outputs": [],
   "source": [
    "a, b, c = calculate_metrics(ensemble_results, reference)\n",
    "display(pd.DataFrame([a]))\n",
    "display(b)\n",
    "display(c)"
   ]
  }
 ],
 "metadata": {
  "kernelspec": {
   "display_name": "SentenceClassification",
   "language": "python",
   "name": "python3"
  },
  "language_info": {
   "codemirror_mode": {
    "name": "ipython",
    "version": 3
   },
   "file_extension": ".py",
   "mimetype": "text/x-python",
   "name": "python",
   "nbconvert_exporter": "python",
   "pygments_lexer": "ipython3",
   "version": "3.12.3"
  }
 },
 "nbformat": 4,
 "nbformat_minor": 2
}
