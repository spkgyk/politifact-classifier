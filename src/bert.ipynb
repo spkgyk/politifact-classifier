{
 "cells": [
  {
   "cell_type": "code",
   "execution_count": null,
   "metadata": {},
   "outputs": [],
   "source": [
    "from sklearn.model_selection import train_test_split \n",
    "from utils.train import ClassificationTrainer   \n",
    "from utils.test import ClassificationTester\n",
    "from yaml import safe_load\n",
    "import pandas as pd"
   ]
  },
  {
   "cell_type": "code",
   "execution_count": null,
   "metadata": {},
   "outputs": [],
   "source": [
    "df = pd.read_csv(\"data/data_ada.csv\")\n",
    "with open(\"data/config.yaml\") as f:\n",
    "    config = safe_load(f)"
   ]
  },
  {
   "cell_type": "code",
   "execution_count": null,
   "metadata": {},
   "outputs": [],
   "source": [
    "trainer = ClassificationTrainer(config)\n",
    "trainer.train(df)"
   ]
  },
  {
   "cell_type": "code",
   "execution_count": null,
   "metadata": {},
   "outputs": [],
   "source": [
    "# tester = ClassificationTester(config)"
   ]
  },
  {
   "cell_type": "code",
   "execution_count": null,
   "metadata": {},
   "outputs": [],
   "source": [
    "# reference = df[\"Label\"].apply(lambda x: int(x.lower() in [\"true\", \"mostly-true\"]))\n",
    "# df_x, df_x_test, y, y_test = train_test_split(df, reference, test_size=0.2, random_state=42)"
   ]
  },
  {
   "cell_type": "code",
   "execution_count": null,
   "metadata": {},
   "outputs": [],
   "source": [
    "# rf_results = tester.test_df_rf(df_x_test)\n",
    "# bert_results = tester.test_df_bert(df_x_test)\n",
    "# ensemble_results = tester.test_df_ensemble(df_x_test)"
   ]
  },
  {
   "cell_type": "code",
   "execution_count": null,
   "metadata": {},
   "outputs": [],
   "source": [
    "# print(sum(rf_results == y_test) / len(y_test))\n",
    "# print(sum(bert_results == y_test) / len(y_test))\n",
    "# print(sum(ensemble_results == y_test) / len(y_test))"
   ]
  }
 ],
 "metadata": {
  "kernelspec": {
   "display_name": "SentenceClassification",
   "language": "python",
   "name": "python3"
  },
  "language_info": {
   "codemirror_mode": {
    "name": "ipython",
    "version": 3
   },
   "file_extension": ".py",
   "mimetype": "text/x-python",
   "name": "python",
   "nbconvert_exporter": "python",
   "pygments_lexer": "ipython3",
   "version": "3.12.3"
  }
 },
 "nbformat": 4,
 "nbformat_minor": 2
}
