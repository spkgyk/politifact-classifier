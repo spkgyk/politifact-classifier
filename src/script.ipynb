{
 "cells": [
  {
   "cell_type": "code",
   "execution_count": 1,
   "metadata": {},
   "outputs": [],
   "source": [
    "from train import ClassificationTrainer\n",
    "from yaml import safe_load\n",
    "import pandas as pd"
   ]
  },
  {
   "cell_type": "code",
   "execution_count": 2,
   "metadata": {},
   "outputs": [],
   "source": [
    "df = pd.read_csv(\"data/data.csv\")\n",
    "with open(\"data/config.yaml\") as f:\n",
    "    config = safe_load(f)"
   ]
  },
  {
   "cell_type": "code",
   "execution_count": 3,
   "metadata": {},
   "outputs": [
    {
     "name": "stderr",
     "output_type": "stream",
     "text": [
      "Some weights of BertForSequenceClassification were not initialized from the model checkpoint at google-bert/bert-base-uncased and are newly initialized: ['classifier.bias', 'classifier.weight']\n",
      "You should probably TRAIN this model on a down-stream task to be able to use it for predictions and inference.\n"
     ]
    },
    {
     "data": {
      "application/vnd.jupyter.widget-view+json": {
       "model_id": "f10156c24c584b8ba478b39c4528fab0",
       "version_major": 2,
       "version_minor": 0
      },
      "text/plain": [
       "Map:   0%|          | 0/7701 [00:00<?, ? examples/s]"
      ]
     },
     "metadata": {},
     "output_type": "display_data"
    },
    {
     "data": {
      "application/vnd.jupyter.widget-view+json": {
       "model_id": "846324f483264225a2542dcca3a4f78b",
       "version_major": 2,
       "version_minor": 0
      },
      "text/plain": [
       "Map:   0%|          | 0/1926 [00:00<?, ? examples/s]"
      ]
     },
     "metadata": {},
     "output_type": "display_data"
    },
    {
     "data": {
      "text/html": [
       "\n",
       "    <div>\n",
       "      \n",
       "      <progress value='2410' max='2410' style='width:300px; height:20px; vertical-align: middle;'></progress>\n",
       "      [2410/2410 07:32, Epoch 5/5]\n",
       "    </div>\n",
       "    <table border=\"1\" class=\"dataframe\">\n",
       "  <thead>\n",
       " <tr style=\"text-align: left;\">\n",
       "      <th>Epoch</th>\n",
       "      <th>Training Loss</th>\n",
       "      <th>Validation Loss</th>\n",
       "      <th>Accuracy</th>\n",
       "      <th>Precision</th>\n",
       "      <th>Recall</th>\n",
       "      <th>F1</th>\n",
       "      <th>Mcc</th>\n",
       "    </tr>\n",
       "  </thead>\n",
       "  <tbody>\n",
       "    <tr>\n",
       "      <td>1</td>\n",
       "      <td>No log</td>\n",
       "      <td>0.557348</td>\n",
       "      <td>{'accuracy': 0.7393561786085151}</td>\n",
       "      <td>{'precision': 0.7380577427821522}</td>\n",
       "      <td>{'recall': 0.9978708303761533}</td>\n",
       "      <td>{'f1': 0.8485214242607121}</td>\n",
       "      <td>{'matthews_correlation': 0.13948250216643818}</td>\n",
       "    </tr>\n",
       "    <tr>\n",
       "      <td>2</td>\n",
       "      <td>0.594800</td>\n",
       "      <td>0.536420</td>\n",
       "      <td>{'accuracy': 0.7471443406022845}</td>\n",
       "      <td>{'precision': 0.7473175965665236}</td>\n",
       "      <td>{'recall': 0.9886444286728177}</td>\n",
       "      <td>{'f1': 0.8512068438741216}</td>\n",
       "      <td>{'matthews_correlation': 0.19487296786664873}</td>\n",
       "    </tr>\n",
       "    <tr>\n",
       "      <td>3</td>\n",
       "      <td>0.560600</td>\n",
       "      <td>0.550332</td>\n",
       "      <td>{'accuracy': 0.7481827622014537}</td>\n",
       "      <td>{'precision': 0.756952169076752}</td>\n",
       "      <td>{'recall': 0.9659332860184529}</td>\n",
       "      <td>{'f1': 0.848768319301528}</td>\n",
       "      <td>{'matthews_correlation': 0.2146881339261762}</td>\n",
       "    </tr>\n",
       "    <tr>\n",
       "      <td>4</td>\n",
       "      <td>0.529500</td>\n",
       "      <td>0.536560</td>\n",
       "      <td>{'accuracy': 0.7507788161993769}</td>\n",
       "      <td>{'precision': 0.7677233429394813}</td>\n",
       "      <td>{'recall': 0.9453513129879347}</td>\n",
       "      <td>{'f1': 0.8473282442748091}</td>\n",
       "      <td>{'matthews_correlation': 0.24590131788023506}</td>\n",
       "    </tr>\n",
       "    <tr>\n",
       "      <td>5</td>\n",
       "      <td>0.502400</td>\n",
       "      <td>0.551001</td>\n",
       "      <td>{'accuracy': 0.7502596053997923}</td>\n",
       "      <td>{'precision': 0.7669735327963176}</td>\n",
       "      <td>{'recall': 0.9460610361958836}</td>\n",
       "      <td>{'f1': 0.8471560216078805}</td>\n",
       "      <td>{'matthews_correlation': 0.24292510913779214}</td>\n",
       "    </tr>\n",
       "  </tbody>\n",
       "</table><p>"
      ],
      "text/plain": [
       "<IPython.core.display.HTML object>"
      ]
     },
     "metadata": {},
     "output_type": "display_data"
    },
    {
     "data": {
      "text/html": [
       "\n",
       "    <div>\n",
       "      \n",
       "      <progress value='121' max='121' style='width:300px; height:20px; vertical-align: middle;'></progress>\n",
       "      [121/121 00:04]\n",
       "    </div>\n",
       "    "
      ],
      "text/plain": [
       "<IPython.core.display.HTML object>"
      ]
     },
     "metadata": {},
     "output_type": "display_data"
    }
   ],
   "source": [
    "trainer = ClassificationTrainer(config)\n",
    "trainer.train(df)"
   ]
  }
 ],
 "metadata": {
  "kernelspec": {
   "display_name": "SentenceClassification",
   "language": "python",
   "name": "python3"
  },
  "language_info": {
   "codemirror_mode": {
    "name": "ipython",
    "version": 3
   },
   "file_extension": ".py",
   "mimetype": "text/x-python",
   "name": "python",
   "nbconvert_exporter": "python",
   "pygments_lexer": "ipython3",
   "version": "3.12.3"
  }
 },
 "nbformat": 4,
 "nbformat_minor": 2
}
